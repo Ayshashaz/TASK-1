{
 "cells": [
  {
   "cell_type": "code",
   "execution_count": 1,
   "id": "51637c8b",
   "metadata": {},
   "outputs": [],
   "source": [
    "def find_numbers(start, end):\n",
    "    numbers = []\n",
    "    for num in range(start, end + 1):\n",
    "        if num % 7 == 0 and num % 5 == 0:\n",
    "            numbers.append(num)\n",
    "    return numbers"
   ]
  },
  {
   "cell_type": "code",
   "execution_count": 2,
   "id": "b04f64c6",
   "metadata": {},
   "outputs": [
    {
     "name": "stdout",
     "output_type": "stream",
     "text": [
      "Enter the start of the range: 1\n",
      "Enter the end of the range: 50\n",
      "Numbers divisible by 7 and multiples of 5 within the range: [35]\n"
     ]
    }
   ],
   "source": [
    "def find_numbers(start, end):\n",
    "    numbers = []\n",
    "    for num in range(start, end + 1):\n",
    "        if num % 7 == 0 and num % 5 == 0:\n",
    "            numbers.append(num)\n",
    "    return numbers\n",
    "\n",
    "if __name__ == \"__main__\":\n",
    "    start = int(input(\"Enter the start of the range: \"))\n",
    "    end = int(input(\"Enter the end of the range: \"))\n",
    "    \n",
    "    result = find_numbers(start, end)\n",
    "    \n",
    "    if result:\n",
    "        print(\"Numbers divisible by 7 and multiples of 5 within the range:\", result)\n",
    "    else:\n",
    "        print(\"No numbers found in the specified range.\")"
   ]
  },
  {
   "cell_type": "code",
   "execution_count": null,
   "id": "38c5909f",
   "metadata": {},
   "outputs": [],
   "source": []
  },
  {
   "cell_type": "code",
   "execution_count": null,
   "id": "4d08c836",
   "metadata": {},
   "outputs": [],
   "source": []
  }
 ],
 "metadata": {
  "kernelspec": {
   "display_name": "Python 3 (ipykernel)",
   "language": "python",
   "name": "python3"
  },
  "language_info": {
   "codemirror_mode": {
    "name": "ipython",
    "version": 3
   },
   "file_extension": ".py",
   "mimetype": "text/x-python",
   "name": "python",
   "nbconvert_exporter": "python",
   "pygments_lexer": "ipython3",
   "version": "3.9.12"
  }
 },
 "nbformat": 4,
 "nbformat_minor": 5
}
